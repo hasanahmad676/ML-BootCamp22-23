{
 "cells": [
  {
   "cell_type": "code",
   "execution_count": 1,
   "metadata": {},
   "outputs": [],
   "source": [
    "import pandas as pd\n",
    "import requests"
   ]
  },
  {
   "cell_type": "code",
   "execution_count": 2,
   "metadata": {},
   "outputs": [],
   "source": [
    "response = requests.get('https://api.themoviedb.org/3/movie/top_rated?api_key=7e4984a112cce2f8cf8051170e2a6495&language=en-US&page=1')"
   ]
  },
  {
   "cell_type": "code",
   "execution_count": 3,
   "metadata": {},
   "outputs": [],
   "source": [
    "temp_df = pd.DataFrame(response.json()['results'])[['id','title','overview','release_date','popularity','vote_average','vote_count']]"
   ]
  },
  {
   "cell_type": "code",
   "execution_count": 4,
   "metadata": {},
   "outputs": [],
   "source": [
    "df = pd.DataFrame()"
   ]
  },
  {
   "cell_type": "code",
   "execution_count": 5,
   "metadata": {},
   "outputs": [],
   "source": [
    "for i in range(1,429):\n",
    "    response = requests.get('https://api.themoviedb.org/3/movie/top_rated?api_key=7e4984a112cce2f8cf8051170e2a6495&language=en-US&page={}'.format(i))\n",
    "    temp_df = pd.DataFrame(response.json()['results'])[['id','title','overview','release_date','popularity','vote_average','vote_count']]\n",
    "    df = df.append(temp_df,ignore_index=True)"
   ]
  },
  {
   "cell_type": "code",
   "execution_count": 6,
   "metadata": {},
   "outputs": [
    {
     "data": {
      "text/html": [
       "<div>\n",
       "<style scoped>\n",
       "    .dataframe tbody tr th:only-of-type {\n",
       "        vertical-align: middle;\n",
       "    }\n",
       "\n",
       "    .dataframe tbody tr th {\n",
       "        vertical-align: top;\n",
       "    }\n",
       "\n",
       "    .dataframe thead th {\n",
       "        text-align: right;\n",
       "    }\n",
       "</style>\n",
       "<table border=\"1\" class=\"dataframe\">\n",
       "  <thead>\n",
       "    <tr style=\"text-align: right;\">\n",
       "      <th></th>\n",
       "      <th>id</th>\n",
       "      <th>title</th>\n",
       "      <th>overview</th>\n",
       "      <th>release_date</th>\n",
       "      <th>popularity</th>\n",
       "      <th>vote_average</th>\n",
       "      <th>vote_count</th>\n",
       "    </tr>\n",
       "  </thead>\n",
       "  <tbody>\n",
       "    <tr>\n",
       "      <th>0</th>\n",
       "      <td>278</td>\n",
       "      <td>The Shawshank Redemption</td>\n",
       "      <td>Framed in the 1940s for the double murder of h...</td>\n",
       "      <td>1994-09-23</td>\n",
       "      <td>77.198</td>\n",
       "      <td>8.7</td>\n",
       "      <td>21747</td>\n",
       "    </tr>\n",
       "    <tr>\n",
       "      <th>1</th>\n",
       "      <td>19404</td>\n",
       "      <td>Dilwale Dulhania Le Jayenge</td>\n",
       "      <td>Raj is a rich, carefree, happy-go-lucky second...</td>\n",
       "      <td>1995-10-19</td>\n",
       "      <td>21.597</td>\n",
       "      <td>8.7</td>\n",
       "      <td>3706</td>\n",
       "    </tr>\n",
       "    <tr>\n",
       "      <th>2</th>\n",
       "      <td>238</td>\n",
       "      <td>The Godfather</td>\n",
       "      <td>Spanning the years 1945 to 1955, a chronicle o...</td>\n",
       "      <td>1972-03-14</td>\n",
       "      <td>94.789</td>\n",
       "      <td>8.7</td>\n",
       "      <td>16192</td>\n",
       "    </tr>\n",
       "    <tr>\n",
       "      <th>3</th>\n",
       "      <td>424</td>\n",
       "      <td>Schindler's List</td>\n",
       "      <td>The true story of how businessman Oskar Schind...</td>\n",
       "      <td>1993-11-30</td>\n",
       "      <td>44.061</td>\n",
       "      <td>8.6</td>\n",
       "      <td>12917</td>\n",
       "    </tr>\n",
       "    <tr>\n",
       "      <th>4</th>\n",
       "      <td>240</td>\n",
       "      <td>The Godfather: Part II</td>\n",
       "      <td>In the continuing saga of the Corleone crime f...</td>\n",
       "      <td>1974-12-20</td>\n",
       "      <td>58.704</td>\n",
       "      <td>8.6</td>\n",
       "      <td>9764</td>\n",
       "    </tr>\n",
       "    <tr>\n",
       "      <th>...</th>\n",
       "      <td>...</td>\n",
       "      <td>...</td>\n",
       "      <td>...</td>\n",
       "      <td>...</td>\n",
       "      <td>...</td>\n",
       "      <td>...</td>\n",
       "      <td>...</td>\n",
       "    </tr>\n",
       "    <tr>\n",
       "      <th>8555</th>\n",
       "      <td>376865</td>\n",
       "      <td>High Life</td>\n",
       "      <td>A father and his daughter struggle to survive ...</td>\n",
       "      <td>2018-09-26</td>\n",
       "      <td>15.022</td>\n",
       "      <td>5.8</td>\n",
       "      <td>859</td>\n",
       "    </tr>\n",
       "    <tr>\n",
       "      <th>8556</th>\n",
       "      <td>85038</td>\n",
       "      <td>Welcome to the North</td>\n",
       "      <td>Now in the Far North (i.e. Milan!), Alberto ha...</td>\n",
       "      <td>2012-01-18</td>\n",
       "      <td>9.228</td>\n",
       "      <td>5.8</td>\n",
       "      <td>1185</td>\n",
       "    </tr>\n",
       "    <tr>\n",
       "      <th>8557</th>\n",
       "      <td>54540</td>\n",
       "      <td>Beverly Hills Chihuahua 2</td>\n",
       "      <td>Puppy mayhem turns the lives of newlywed Chihu...</td>\n",
       "      <td>2011-02-01</td>\n",
       "      <td>22.197</td>\n",
       "      <td>5.8</td>\n",
       "      <td>313</td>\n",
       "    </tr>\n",
       "    <tr>\n",
       "      <th>8558</th>\n",
       "      <td>215379</td>\n",
       "      <td>Young Ones</td>\n",
       "      <td>In a future where water is scarce, a farmer de...</td>\n",
       "      <td>2014-06-28</td>\n",
       "      <td>8.776</td>\n",
       "      <td>5.8</td>\n",
       "      <td>248</td>\n",
       "    </tr>\n",
       "    <tr>\n",
       "      <th>8559</th>\n",
       "      <td>34803</td>\n",
       "      <td>Death at a Funeral</td>\n",
       "      <td>Aaron's father's funeral is today at the famil...</td>\n",
       "      <td>2010-04-15</td>\n",
       "      <td>16.416</td>\n",
       "      <td>5.8</td>\n",
       "      <td>774</td>\n",
       "    </tr>\n",
       "  </tbody>\n",
       "</table>\n",
       "<p>8560 rows × 7 columns</p>\n",
       "</div>"
      ],
      "text/plain": [
       "          id                        title  \\\n",
       "0        278     The Shawshank Redemption   \n",
       "1      19404  Dilwale Dulhania Le Jayenge   \n",
       "2        238                The Godfather   \n",
       "3        424             Schindler's List   \n",
       "4        240       The Godfather: Part II   \n",
       "...      ...                          ...   \n",
       "8555  376865                    High Life   \n",
       "8556   85038         Welcome to the North   \n",
       "8557   54540    Beverly Hills Chihuahua 2   \n",
       "8558  215379                   Young Ones   \n",
       "8559   34803           Death at a Funeral   \n",
       "\n",
       "                                               overview release_date  \\\n",
       "0     Framed in the 1940s for the double murder of h...   1994-09-23   \n",
       "1     Raj is a rich, carefree, happy-go-lucky second...   1995-10-19   \n",
       "2     Spanning the years 1945 to 1955, a chronicle o...   1972-03-14   \n",
       "3     The true story of how businessman Oskar Schind...   1993-11-30   \n",
       "4     In the continuing saga of the Corleone crime f...   1974-12-20   \n",
       "...                                                 ...          ...   \n",
       "8555  A father and his daughter struggle to survive ...   2018-09-26   \n",
       "8556  Now in the Far North (i.e. Milan!), Alberto ha...   2012-01-18   \n",
       "8557  Puppy mayhem turns the lives of newlywed Chihu...   2011-02-01   \n",
       "8558  In a future where water is scarce, a farmer de...   2014-06-28   \n",
       "8559  Aaron's father's funeral is today at the famil...   2010-04-15   \n",
       "\n",
       "      popularity  vote_average  vote_count  \n",
       "0         77.198           8.7       21747  \n",
       "1         21.597           8.7        3706  \n",
       "2         94.789           8.7       16192  \n",
       "3         44.061           8.6       12917  \n",
       "4         58.704           8.6        9764  \n",
       "...          ...           ...         ...  \n",
       "8555      15.022           5.8         859  \n",
       "8556       9.228           5.8        1185  \n",
       "8557      22.197           5.8         313  \n",
       "8558       8.776           5.8         248  \n",
       "8559      16.416           5.8         774  \n",
       "\n",
       "[8560 rows x 7 columns]"
      ]
     },
     "execution_count": 6,
     "metadata": {},
     "output_type": "execute_result"
    }
   ],
   "source": [
    "df"
   ]
  },
  {
   "cell_type": "code",
   "execution_count": 7,
   "metadata": {},
   "outputs": [
    {
     "data": {
      "text/plain": [
       "(8560, 7)"
      ]
     },
     "execution_count": 7,
     "metadata": {},
     "output_type": "execute_result"
    }
   ],
   "source": [
    "df.shape"
   ]
  },
  {
   "cell_type": "code",
   "execution_count": 8,
   "metadata": {},
   "outputs": [],
   "source": [
    "df.to_csv('top rating movies.csv')"
   ]
  },
  {
   "cell_type": "markdown",
   "metadata": {},
   "source": [
    "# links "
   ]
  },
  {
   "cell_type": "code",
   "execution_count": 9,
   "metadata": {},
   "outputs": [
    {
     "data": {
      "text/plain": [
       "'1.TMDB:https://www.themoviedb.org/\\n2. RapidAPI : https://rapidapi.com/collection/list-of-free-apis \\n3. JSON Viewer: http://jsonviewer.stack.hu/ '"
      ]
     },
     "execution_count": 9,
     "metadata": {},
     "output_type": "execute_result"
    }
   ],
   "source": [
    "'''1.TMDB:https://www.themoviedb.org/\n",
    "2. RapidAPI : https://rapidapi.com/collection/list-of-free-apis \n",
    "3. JSON Viewer: http://jsonviewer.stack.hu/ ''' "
   ]
  },
  {
   "cell_type": "code",
   "execution_count": null,
   "metadata": {},
   "outputs": [],
   "source": []
  }
 ],
 "metadata": {
  "kernelspec": {
   "display_name": "Python 3",
   "language": "python",
   "name": "python3"
  },
  "language_info": {
   "codemirror_mode": {
    "name": "ipython",
    "version": 3
   },
   "file_extension": ".py",
   "mimetype": "text/x-python",
   "name": "python",
   "nbconvert_exporter": "python",
   "pygments_lexer": "ipython3",
   "version": "3.8.5"
  }
 },
 "nbformat": 4,
 "nbformat_minor": 4
}
